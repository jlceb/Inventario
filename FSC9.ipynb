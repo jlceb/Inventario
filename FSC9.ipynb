{
  "cells": [
    {
      "cell_type": "markdown",
      "source": [
        "# Dependencias"
      ],
      "metadata": {
        "id": "Dr-Ge8qYdn4E"
      }
    },
    {
      "cell_type": "code",
      "source": [
        "import numpy as np\n",
        "import pandas as pd\n",
        "import tensorflow as tf\n",
        "import seaborn as sns\n",
        "import matplotlib.pyplot as plt\n",
        "import random\n",
        "from sklearn.model_selection import train_test_split\n",
        "from sklearn.preprocessing import StandardScaler, LabelEncoder\n",
        "from sklearn.metrics import confusion_matrix, classification_report"
      ],
      "metadata": {
        "id": "SKZa0196doRr"
      },
      "execution_count": null,
      "outputs": []
    },
    {
      "cell_type": "code",
      "source": [
        "class CerebralFlowAnalyzer:\n",
        "    def __init__(self):\n",
        "      # Se definen los rangos normales a partir de los datos proporcionados por el estudio\n",
        "        self.reference_ranges = {\n",
        "            'male': {\n",
        "                'under_45': {\n",
        "                    'internal_carotid_right': (41.28, 61.38),\n",
        "                    'internal_carotid_left': (40.53, 61.63),\n",
        "                    'anterior_cerebral_right': (37.69, 55.31),\n",
        "                    'anterior_cerebral_left': (36.42, 60.42),\n",
        "                    'middle_cerebral_right': (46.14, 66.20),\n",
        "                    'middle_cerebral_left': (43.64, 62.66),\n",
        "                    'posterior_cerebral_right': (30.55, 39.45),\n",
        "                    'posterior_cerebral_left': (32.44, 50.10)\n",
        "                },\n",
        "                'over_45': {\n",
        "                    'internal_carotid_right': (37.51, 53.89),\n",
        "                    'internal_carotid_left': (37.71, 64.29),\n",
        "                    'anterior_cerebral_right': (35.24, 52.96),\n",
        "                    'anterior_cerebral_left': (33.51, 53.99),\n",
        "                    'middle_cerebral_right': (42.02, 65.78),\n",
        "                    'middle_cerebral_left': (46.88, 68.52),\n",
        "                    'posterior_cerebral_right': (28.77, 42.63),\n",
        "                    'posterior_cerebral_left': (32.18, 50.62)\n",
        "                }\n",
        "            },\n",
        "            'female': {\n",
        "                'under_45': {\n",
        "                    'internal_carotid_right': (43.04, 57.96),\n",
        "                    'internal_carotid_left': (44.50, 60.24),\n",
        "                    'anterior_cerebral_right': (38.74, 57.26),\n",
        "                    'anterior_cerebral_left': (38.70, 64.80),\n",
        "                    'middle_cerebral_right': (39.29, 80.47),\n",
        "                    'middle_cerebral_left': (54.51, 87.49),\n",
        "                    'posterior_cerebral_right': (28.74, 54.98),\n",
        "                    'posterior_cerebral_left': (30.96, 41.30)\n",
        "                },\n",
        "                'over_45': {\n",
        "                    'internal_carotid_right': (43.92, 67.16),\n",
        "                    'internal_carotid_left': (37.30, 61.70),\n",
        "                    'anterior_cerebral_right': (36.12, 52.50),\n",
        "                    'anterior_cerebral_left': (42.22, 63.18),\n",
        "                    'middle_cerebral_right': (52.01, 72.15),\n",
        "                    'middle_cerebral_left': (52.52, 79.06),\n",
        "                    'posterior_cerebral_right': (34.86, 51.30),\n",
        "                    'posterior_cerebral_left': (35.93, 54.21)\n",
        "                }\n",
        "            }\n",
        "        }\n",
        "\n",
        "    def add_realistic_noise(self, value, noise_level=0.05):\n",
        "        # Función para añadir ruido a los datos\n",
        "        noise = np.random.normal(0, value * noise_level)\n",
        "        return value + noise\n",
        "\n",
        "    def generate_synthetic_data(self, n_samples=1000):\n",
        "        # Se generan datos con variaciones y ruido\n",
        "        data = []\n",
        "\n",
        "        for _ in range(n_samples):\n",
        "            sex = random.choice(['male', 'female'])\n",
        "            age = random.randint(20, 80)\n",
        "            age_group = 'under_45' if age < 45 else 'over_45'\n",
        "\n",
        "            sample = {\n",
        "                'age': age,\n",
        "                'sex': sex\n",
        "            }\n",
        "\n",
        "            # Se determina la tendencia general de la muestra\n",
        "            tendency = random.choice(['normal', 'below', 'above', 'mixed'])\n",
        "\n",
        "            for artery in self.reference_ranges[sex][age_group].keys():\n",
        "                min_val, max_val = self.reference_ranges[sex][age_group][artery]\n",
        "                range_width = max_val - min_val\n",
        "\n",
        "                if tendency == 'normal':\n",
        "                    # Se genera un valor dentro del rango normal con alguna varianza\n",
        "                    base_value = random.uniform(min_val + range_width*0.1, max_val - range_width*0.1)\n",
        "                elif tendency == 'below':\n",
        "                    # Se genera un valor por debajo del rango normal\n",
        "                    base_value = random.uniform(min_val - range_width*0.3, min_val - range_width*0.05)\n",
        "                elif tendency == 'above':\n",
        "                    # Se genera un valor por encima del rango normal\n",
        "                    base_value = random.uniform(max_val + range_width*0.05, max_val + range_width*0.3)\n",
        "                else:  # mixed\n",
        "                    # Se hace una elección aleatoria entre un rango normal, por debajo y por encima\n",
        "                    choice = random.choice(['normal', 'below', 'above'])\n",
        "                    if choice == 'normal':\n",
        "                        base_value = random.uniform(min_val + range_width*0.1, max_val - range_width*0.1)\n",
        "                    elif choice == 'below':\n",
        "                        base_value = random.uniform(min_val - range_width*0.3, min_val - range_width*0.05)\n",
        "                    else:\n",
        "                        base_value = random.uniform(max_val + range_width*0.05, max_val + range_width*0.3)\n",
        "\n",
        "                # Se añade un ruido a la medición\n",
        "                value = self.add_realistic_noise(base_value)\n",
        "                sample[artery] = value\n",
        "\n",
        "            # Se etiquetan los datos\n",
        "            label = self.determine_label(sample, sex, age_group)\n",
        "            sample['label'] = label\n",
        "            data.append(sample)\n",
        "\n",
        "        return pd.DataFrame(data)\n",
        "\n",
        "    def determine_label(self, sample, sex, age_group):\n",
        "        # Función para determinar la etiqueta de los valores reales\n",
        "        below_count = 0\n",
        "        above_count = 0\n",
        "        normal_count = 0\n",
        "\n",
        "        for artery in self.reference_ranges[sex][age_group].keys():\n",
        "            min_val, max_val = self.reference_ranges[sex][age_group][artery]\n",
        "            value = sample[artery]\n",
        "\n",
        "            # Se añade algo de difuminación a los límites\n",
        "            lower_boundary = min_val - (min_val * 0.02)  # 2% por debajo del mínimo valor\n",
        "            upper_boundary = max_val + (max_val * 0.02)  # 2% por encima del máximo valor\n",
        "\n",
        "            if value < lower_boundary:\n",
        "                below_count += 1\n",
        "            elif value > upper_boundary:\n",
        "                above_count += 1\n",
        "            else:\n",
        "                normal_count += 1\n",
        "\n",
        "        # Reglas de decisión\n",
        "        if below_count >= 5:  # Más de la mitad están por debajo\n",
        "            return 'below'\n",
        "        elif above_count >= 5:  # Más de la mitad están por encima\n",
        "            return 'above'\n",
        "        else:\n",
        "            return 'normal' # Están dentro del rango normal\n",
        "\n",
        "    # Se crea el modelo\n",
        "    def create_model(self, input_shape):\n",
        "\n",
        "        model = tf.keras.Sequential([\n",
        "            # Capa de entrada\n",
        "            tf.keras.Input(shape=input_shape),\n",
        "            # Capa oculta\n",
        "            tf.keras.layers.Dense(128, activation='relu',\n",
        "                                kernel_regularizer=tf.keras.regularizers.l2(0.01)),\n",
        "            tf.keras.layers.BatchNormalization(),\n",
        "            tf.keras.layers.Dropout(0.3),\n",
        "            # Capa oculta\n",
        "            tf.keras.layers.Dense(64, activation='relu',\n",
        "                                kernel_regularizer=tf.keras.regularizers.l2(0.01)),\n",
        "            tf.keras.layers.BatchNormalization(),\n",
        "            tf.keras.layers.Dropout(0.3),\n",
        "            # Capa oculta\n",
        "            tf.keras.layers.Dense(32, activation='relu',\n",
        "                                kernel_regularizer=tf.keras.regularizers.l2(0.01)),\n",
        "            tf.keras.layers.BatchNormalization(),\n",
        "            tf.keras.layers.Dropout(0.2),\n",
        "            # Capa de salida\n",
        "            tf.keras.layers.Dense(3, activation='softmax')\n",
        "        ])\n",
        "\n",
        "        # Se compila el modelo\n",
        "        model.compile(\n",
        "            optimizer=tf.keras.optimizers.Adam(learning_rate=0.001),\n",
        "            loss='sparse_categorical_crossentropy',\n",
        "            metrics=['accuracy']\n",
        "        )\n",
        "\n",
        "        return model\n",
        "\n",
        "    # Se entrena y evalua el modelo\n",
        "    def train_and_evaluate(self, n_samples=5000):\n",
        "\n",
        "        # Se generan y procesan los datos\n",
        "        print(\"Generating synthetic data...\")\n",
        "        df = self.generate_synthetic_data(n_samples)\n",
        "\n",
        "        # División de características y etiquetas\n",
        "        features = ['age'] + [col for col in df.columns if 'cerebral' in col or 'carotid' in col]\n",
        "        X = df[features].values\n",
        "        le_label = LabelEncoder()\n",
        "        y = le_label.fit_transform(df['label'])\n",
        "\n",
        "        # División de los datos de entrenamiento, pruebas y validación\n",
        "        X_temp, X_test, y_temp, y_test = train_test_split(X, y, test_size=0.2, random_state=42)\n",
        "        X_train, X_val, y_train, y_val = train_test_split(X_temp, y_temp, test_size=0.2, random_state=42)\n",
        "\n",
        "        # Normalizamos las entradas para que estén en una escala similar\n",
        "        # Esto es importante para el entrenamiento de esta red neuronal ya que por defecto, las entradas vienen expresadas en escalas diferentes (años, cm/s)\n",
        "        scaler = StandardScaler()\n",
        "        X_train = scaler.fit_transform(X_train)\n",
        "        X_val = scaler.transform(X_val)\n",
        "        X_test = scaler.transform(X_test)\n",
        "\n",
        "        # Se crea y se entrena el modelo\n",
        "        print(\"Training model...\")\n",
        "        model = self.create_model((X_train.shape[1],))\n",
        "\n",
        "        # Se añade la posibilidad de una parada temprana\n",
        "        early_stopping = tf.keras.callbacks.EarlyStopping(\n",
        "            monitor='val_loss',\n",
        "            patience=10,\n",
        "            restore_best_weights=True\n",
        "        )\n",
        "\n",
        "        history = model.fit(\n",
        "            X_train, y_train,\n",
        "            validation_data=(X_val, y_val),\n",
        "            epochs=100,\n",
        "            batch_size=32,\n",
        "            callbacks=[early_stopping],\n",
        "            verbose=1\n",
        "        )\n",
        "\n",
        "        # Se evalua el modelo\n",
        "        print(\"\\nEvaluating model...\")\n",
        "        test_loss, test_accuracy = model.evaluate(X_test, y_test, verbose=0)\n",
        "        print(f\"Test Loss: {test_loss:.4f}\")\n",
        "        print(f\"Test Accuracy: {test_accuracy:.4f}\")\n",
        "\n",
        "        # Se generan las predicciones para la matriz de confusión\n",
        "        y_pred = model.predict(X_test)\n",
        "        y_pred_classes = np.argmax(y_pred, axis=1)\n",
        "\n",
        "        # Se imprime el reporte de clasificación\n",
        "        print(\"\\nClassification Report:\")\n",
        "        print(classification_report(y_test, y_pred_classes,\n",
        "                                 target_names=le_label.classes_))\n",
        "\n",
        "        # Se grafica la matriz de confusion\n",
        "        plt.figure(figsize=(8, 6))\n",
        "        cm = confusion_matrix(y_test, y_pred_classes)\n",
        "        sns.heatmap(cm, annot=True, fmt='d', cmap='Blues',\n",
        "                   xticklabels=le_label.classes_,\n",
        "                   yticklabels=le_label.classes_)\n",
        "        plt.title('Confusion Matrix')\n",
        "        plt.ylabel('True Label')\n",
        "        plt.xlabel('Predicted Label')\n",
        "        plt.show()\n",
        "\n",
        "        # Se grafica la precisión del modelo\n",
        "        plt.figure(figsize=(12, 4))\n",
        "        plt.subplot(1, 2, 1)\n",
        "        plt.plot(history.history['accuracy'], label='Training')\n",
        "        plt.plot(history.history['val_accuracy'], label='Validation')\n",
        "        plt.title('Model Accuracy')\n",
        "        plt.xlabel('Epoch')\n",
        "        plt.ylabel('Accuracy')\n",
        "        plt.legend()\n",
        "\n",
        "        # Se grafica la pérdida del modelo\n",
        "        plt.subplot(1, 2, 2)\n",
        "        plt.plot(history.history['loss'], label='Training')\n",
        "        plt.plot(history.history['val_loss'], label='Validation')\n",
        "        plt.title('Model Loss')\n",
        "        plt.xlabel('Epoch')\n",
        "        plt.ylabel('Loss')\n",
        "        plt.legend()\n",
        "        plt.tight_layout()\n",
        "        plt.show()\n",
        "\n",
        "        return model, scaler, le_label"
      ],
      "metadata": {
        "id": "Z48D-u-HdoZb"
      },
      "execution_count": null,
      "outputs": []
    },
    {
      "cell_type": "markdown",
      "source": [
        "# Visualización de Datos"
      ],
      "metadata": {
        "id": "d1-NgCV3dqb7"
      }
    },
    {
      "cell_type": "code",
      "source": [
        "datos_fsc = {\n",
        "    'male': {\n",
        "        'under_45': {\n",
        "            'internal_carotid_right':   (41.28,  61.38),\n",
        "            'internal_carotid_left':    (40.53,  61.63),\n",
        "            'anterior_cerebral_right':  (37.69,  55.31),\n",
        "            'anterior_cerebral_left':   (36.42,  60.42),\n",
        "            'middle_cerebral_right':    (46.14,  66.20),\n",
        "            'middle_cerebral_left':     (43.64,  62.66),\n",
        "            'posterior_cerebral_right': (30.55,  39.45),\n",
        "            'posterior_cerebral_left':  (32.44,  50.10)\n",
        "        },\n",
        "        'over_45': {\n",
        "            'internal_carotid_right':   (37.51,  53.89),\n",
        "            'internal_carotid_left':    (37.71,  64.29),\n",
        "            'anterior_cerebral_right':  (35.24,  52.96),\n",
        "            'anterior_cerebral_left':   (33.51,  53.99),\n",
        "            'middle_cerebral_right':    (42.02,  65.78),\n",
        "            'middle_cerebral_left':     (46.88,  68.52),\n",
        "            'posterior_cerebral_right': (28.77,  42.63),\n",
        "            'posterior_cerebral_left':  (32.18,  50.62)\n",
        "        }\n",
        "    },\n",
        "    'female': {\n",
        "        'under_45': {\n",
        "            'internal_carotid_right':   (43.04,  57.96),\n",
        "            'internal_carotid_left':    (44.50,  60.24),\n",
        "            'anterior_cerebral_right':  (38.74,  57.26),\n",
        "            'anterior_cerebral_left':   (38.70,  64.80),\n",
        "            'middle_cerebral_right':    (39.29,  80.47),\n",
        "            'middle_cerebral_left':     (54.51,  87.49),\n",
        "            'posterior_cerebral_right': (28.74,  54.98),\n",
        "            'posterior_cerebral_left':  (30.96,  41.30)\n",
        "        },\n",
        "        'over_45': {\n",
        "            'internal_carotid_right':   (43.92,  67.16),\n",
        "            'internal_carotid_left':    (37.30,  61.70),\n",
        "            'anterior_cerebral_right':  (36.12,  52.50),\n",
        "            'anterior_cerebral_left':   (42.22,  63.18),\n",
        "            'middle_cerebral_right':    (52.01,  72.15),\n",
        "            'middle_cerebral_left':     (52.52,  79.06),\n",
        "            'posterior_cerebral_right': (34.86,  51.30),\n",
        "            'posterior_cerebral_left':  (35.93,  54.21)\n",
        "        }\n",
        "    }\n",
        "}\n",
        "\n",
        "# entrenamiento 64% / validación 16% / prueba 20%\n",
        "\n",
        "print(\"Etiqueta Categórica: [0 1 0]\")\n",
        "print(\"                        ↑normal\\n\\n\")\n",
        "\n",
        "print(\"Posible Predicción : [0.054  0.901  0.045]\")\n",
        "print(\"                                ↑\")\n",
        "print(\"                            elección\\n\\n\")\n",
        "\n",
        "# ruido de 5%"
      ],
      "metadata": {
        "colab": {
          "base_uri": "https://localhost:8080/"
        },
        "id": "wjJwFPMjdqjM",
        "outputId": "05086fe4-9844-44f6-fbd2-91025dc861c0"
      },
      "execution_count": null,
      "outputs": [
        {
          "output_type": "stream",
          "name": "stdout",
          "text": [
            "Etiqueta Categórica: [0 1 0]\n",
            "                        ↑normal\n",
            "\n",
            "\n",
            "Posible Predicción : [0.054  0.901  0.045]\n",
            "                                ↑\n",
            "                            elección\n",
            "\n",
            "\n"
          ]
        }
      ]
    },
    {
      "cell_type": "markdown",
      "source": [
        "# Estructura del Modelo"
      ],
      "metadata": {
        "id": "hXDtECCZdqpU"
      }
    },
    {
      "cell_type": "code",
      "source": [
        "tf.keras.Sequential([\n",
        "    tf.keras.Input(shape=(9,)),\n",
        "    tf.keras.layers.Dense(128, activation='relu',\n",
        "                        kernel_regularizer=tf.keras.regularizers.l2(0.01)),\n",
        "    tf.keras.layers.BatchNormalization(),\n",
        "    tf.keras.layers.Dropout(0.3),\n",
        "    tf.keras.layers.Dense(64, activation='relu',\n",
        "                        kernel_regularizer=tf.keras.regularizers.l2(0.01)),\n",
        "    tf.keras.layers.BatchNormalization(),\n",
        "    tf.keras.layers.Dropout(0.3),\n",
        "    tf.keras.layers.Dense(32, activation='relu',\n",
        "                        kernel_regularizer=tf.keras.regularizers.l2(0.01)),\n",
        "    tf.keras.layers.BatchNormalization(),\n",
        "    tf.keras.layers.Dropout(0.2),\n",
        "    tf.keras.layers.Dense(3, activation='softmax')\n",
        "]).summary()"
      ],
      "metadata": {
        "colab": {
          "base_uri": "https://localhost:8080/",
          "height": 527
        },
        "id": "Boe9Kff0dqvL",
        "outputId": "c9872925-dc34-4a63-96f5-0dea3f4cfe24"
      },
      "execution_count": null,
      "outputs": [
        {
          "output_type": "display_data",
          "data": {
            "text/plain": [
              "\u001b[1mModel: \"sequential\"\u001b[0m\n"
            ],
            "text/html": [
              "<pre style=\"white-space:pre;overflow-x:auto;line-height:normal;font-family:Menlo,'DejaVu Sans Mono',consolas,'Courier New',monospace\"><span style=\"font-weight: bold\">Model: \"sequential\"</span>\n",
              "</pre>\n"
            ]
          },
          "metadata": {}
        },
        {
          "output_type": "display_data",
          "data": {
            "text/plain": [
              "┏━━━━━━━━━━━━━━━━━━━━━━━━━━━━━━━━━━━━━━┳━━━━━━━━━━━━━━━━━━━━━━━━━━━━━┳━━━━━━━━━━━━━━━━━┓\n",
              "┃\u001b[1m \u001b[0m\u001b[1mLayer (type)                        \u001b[0m\u001b[1m \u001b[0m┃\u001b[1m \u001b[0m\u001b[1mOutput Shape               \u001b[0m\u001b[1m \u001b[0m┃\u001b[1m \u001b[0m\u001b[1m        Param #\u001b[0m\u001b[1m \u001b[0m┃\n",
              "┡━━━━━━━━━━━━━━━━━━━━━━━━━━━━━━━━━━━━━━╇━━━━━━━━━━━━━━━━━━━━━━━━━━━━━╇━━━━━━━━━━━━━━━━━┩\n",
              "│ dense (\u001b[38;5;33mDense\u001b[0m)                        │ (\u001b[38;5;45mNone\u001b[0m, \u001b[38;5;34m128\u001b[0m)                 │           \u001b[38;5;34m1,280\u001b[0m │\n",
              "├──────────────────────────────────────┼─────────────────────────────┼─────────────────┤\n",
              "│ batch_normalization                  │ (\u001b[38;5;45mNone\u001b[0m, \u001b[38;5;34m128\u001b[0m)                 │             \u001b[38;5;34m512\u001b[0m │\n",
              "│ (\u001b[38;5;33mBatchNormalization\u001b[0m)                 │                             │                 │\n",
              "├──────────────────────────────────────┼─────────────────────────────┼─────────────────┤\n",
              "│ dropout (\u001b[38;5;33mDropout\u001b[0m)                    │ (\u001b[38;5;45mNone\u001b[0m, \u001b[38;5;34m128\u001b[0m)                 │               \u001b[38;5;34m0\u001b[0m │\n",
              "├──────────────────────────────────────┼─────────────────────────────┼─────────────────┤\n",
              "│ dense_1 (\u001b[38;5;33mDense\u001b[0m)                      │ (\u001b[38;5;45mNone\u001b[0m, \u001b[38;5;34m64\u001b[0m)                  │           \u001b[38;5;34m8,256\u001b[0m │\n",
              "├──────────────────────────────────────┼─────────────────────────────┼─────────────────┤\n",
              "│ batch_normalization_1                │ (\u001b[38;5;45mNone\u001b[0m, \u001b[38;5;34m64\u001b[0m)                  │             \u001b[38;5;34m256\u001b[0m │\n",
              "│ (\u001b[38;5;33mBatchNormalization\u001b[0m)                 │                             │                 │\n",
              "├──────────────────────────────────────┼─────────────────────────────┼─────────────────┤\n",
              "│ dropout_1 (\u001b[38;5;33mDropout\u001b[0m)                  │ (\u001b[38;5;45mNone\u001b[0m, \u001b[38;5;34m64\u001b[0m)                  │               \u001b[38;5;34m0\u001b[0m │\n",
              "├──────────────────────────────────────┼─────────────────────────────┼─────────────────┤\n",
              "│ dense_2 (\u001b[38;5;33mDense\u001b[0m)                      │ (\u001b[38;5;45mNone\u001b[0m, \u001b[38;5;34m32\u001b[0m)                  │           \u001b[38;5;34m2,080\u001b[0m │\n",
              "├──────────────────────────────────────┼─────────────────────────────┼─────────────────┤\n",
              "│ batch_normalization_2                │ (\u001b[38;5;45mNone\u001b[0m, \u001b[38;5;34m32\u001b[0m)                  │             \u001b[38;5;34m128\u001b[0m │\n",
              "│ (\u001b[38;5;33mBatchNormalization\u001b[0m)                 │                             │                 │\n",
              "├──────────────────────────────────────┼─────────────────────────────┼─────────────────┤\n",
              "│ dropout_2 (\u001b[38;5;33mDropout\u001b[0m)                  │ (\u001b[38;5;45mNone\u001b[0m, \u001b[38;5;34m32\u001b[0m)                  │               \u001b[38;5;34m0\u001b[0m │\n",
              "├──────────────────────────────────────┼─────────────────────────────┼─────────────────┤\n",
              "│ dense_3 (\u001b[38;5;33mDense\u001b[0m)                      │ (\u001b[38;5;45mNone\u001b[0m, \u001b[38;5;34m3\u001b[0m)                   │              \u001b[38;5;34m99\u001b[0m │\n",
              "└──────────────────────────────────────┴─────────────────────────────┴─────────────────┘\n"
            ],
            "text/html": [
              "<pre style=\"white-space:pre;overflow-x:auto;line-height:normal;font-family:Menlo,'DejaVu Sans Mono',consolas,'Courier New',monospace\">┏━━━━━━━━━━━━━━━━━━━━━━━━━━━━━━━━━━━━━━┳━━━━━━━━━━━━━━━━━━━━━━━━━━━━━┳━━━━━━━━━━━━━━━━━┓\n",
              "┃<span style=\"font-weight: bold\"> Layer (type)                         </span>┃<span style=\"font-weight: bold\"> Output Shape                </span>┃<span style=\"font-weight: bold\">         Param # </span>┃\n",
              "┡━━━━━━━━━━━━━━━━━━━━━━━━━━━━━━━━━━━━━━╇━━━━━━━━━━━━━━━━━━━━━━━━━━━━━╇━━━━━━━━━━━━━━━━━┩\n",
              "│ dense (<span style=\"color: #0087ff; text-decoration-color: #0087ff\">Dense</span>)                        │ (<span style=\"color: #00d7ff; text-decoration-color: #00d7ff\">None</span>, <span style=\"color: #00af00; text-decoration-color: #00af00\">128</span>)                 │           <span style=\"color: #00af00; text-decoration-color: #00af00\">1,280</span> │\n",
              "├──────────────────────────────────────┼─────────────────────────────┼─────────────────┤\n",
              "│ batch_normalization                  │ (<span style=\"color: #00d7ff; text-decoration-color: #00d7ff\">None</span>, <span style=\"color: #00af00; text-decoration-color: #00af00\">128</span>)                 │             <span style=\"color: #00af00; text-decoration-color: #00af00\">512</span> │\n",
              "│ (<span style=\"color: #0087ff; text-decoration-color: #0087ff\">BatchNormalization</span>)                 │                             │                 │\n",
              "├──────────────────────────────────────┼─────────────────────────────┼─────────────────┤\n",
              "│ dropout (<span style=\"color: #0087ff; text-decoration-color: #0087ff\">Dropout</span>)                    │ (<span style=\"color: #00d7ff; text-decoration-color: #00d7ff\">None</span>, <span style=\"color: #00af00; text-decoration-color: #00af00\">128</span>)                 │               <span style=\"color: #00af00; text-decoration-color: #00af00\">0</span> │\n",
              "├──────────────────────────────────────┼─────────────────────────────┼─────────────────┤\n",
              "│ dense_1 (<span style=\"color: #0087ff; text-decoration-color: #0087ff\">Dense</span>)                      │ (<span style=\"color: #00d7ff; text-decoration-color: #00d7ff\">None</span>, <span style=\"color: #00af00; text-decoration-color: #00af00\">64</span>)                  │           <span style=\"color: #00af00; text-decoration-color: #00af00\">8,256</span> │\n",
              "├──────────────────────────────────────┼─────────────────────────────┼─────────────────┤\n",
              "│ batch_normalization_1                │ (<span style=\"color: #00d7ff; text-decoration-color: #00d7ff\">None</span>, <span style=\"color: #00af00; text-decoration-color: #00af00\">64</span>)                  │             <span style=\"color: #00af00; text-decoration-color: #00af00\">256</span> │\n",
              "│ (<span style=\"color: #0087ff; text-decoration-color: #0087ff\">BatchNormalization</span>)                 │                             │                 │\n",
              "├──────────────────────────────────────┼─────────────────────────────┼─────────────────┤\n",
              "│ dropout_1 (<span style=\"color: #0087ff; text-decoration-color: #0087ff\">Dropout</span>)                  │ (<span style=\"color: #00d7ff; text-decoration-color: #00d7ff\">None</span>, <span style=\"color: #00af00; text-decoration-color: #00af00\">64</span>)                  │               <span style=\"color: #00af00; text-decoration-color: #00af00\">0</span> │\n",
              "├──────────────────────────────────────┼─────────────────────────────┼─────────────────┤\n",
              "│ dense_2 (<span style=\"color: #0087ff; text-decoration-color: #0087ff\">Dense</span>)                      │ (<span style=\"color: #00d7ff; text-decoration-color: #00d7ff\">None</span>, <span style=\"color: #00af00; text-decoration-color: #00af00\">32</span>)                  │           <span style=\"color: #00af00; text-decoration-color: #00af00\">2,080</span> │\n",
              "├──────────────────────────────────────┼─────────────────────────────┼─────────────────┤\n",
              "│ batch_normalization_2                │ (<span style=\"color: #00d7ff; text-decoration-color: #00d7ff\">None</span>, <span style=\"color: #00af00; text-decoration-color: #00af00\">32</span>)                  │             <span style=\"color: #00af00; text-decoration-color: #00af00\">128</span> │\n",
              "│ (<span style=\"color: #0087ff; text-decoration-color: #0087ff\">BatchNormalization</span>)                 │                             │                 │\n",
              "├──────────────────────────────────────┼─────────────────────────────┼─────────────────┤\n",
              "│ dropout_2 (<span style=\"color: #0087ff; text-decoration-color: #0087ff\">Dropout</span>)                  │ (<span style=\"color: #00d7ff; text-decoration-color: #00d7ff\">None</span>, <span style=\"color: #00af00; text-decoration-color: #00af00\">32</span>)                  │               <span style=\"color: #00af00; text-decoration-color: #00af00\">0</span> │\n",
              "├──────────────────────────────────────┼─────────────────────────────┼─────────────────┤\n",
              "│ dense_3 (<span style=\"color: #0087ff; text-decoration-color: #0087ff\">Dense</span>)                      │ (<span style=\"color: #00d7ff; text-decoration-color: #00d7ff\">None</span>, <span style=\"color: #00af00; text-decoration-color: #00af00\">3</span>)                   │              <span style=\"color: #00af00; text-decoration-color: #00af00\">99</span> │\n",
              "└──────────────────────────────────────┴─────────────────────────────┴─────────────────┘\n",
              "</pre>\n"
            ]
          },
          "metadata": {}
        },
        {
          "output_type": "display_data",
          "data": {
            "text/plain": [
              "\u001b[1m Total params: \u001b[0m\u001b[38;5;34m12,611\u001b[0m (49.26 KB)\n"
            ],
            "text/html": [
              "<pre style=\"white-space:pre;overflow-x:auto;line-height:normal;font-family:Menlo,'DejaVu Sans Mono',consolas,'Courier New',monospace\"><span style=\"font-weight: bold\"> Total params: </span><span style=\"color: #00af00; text-decoration-color: #00af00\">12,611</span> (49.26 KB)\n",
              "</pre>\n"
            ]
          },
          "metadata": {}
        },
        {
          "output_type": "display_data",
          "data": {
            "text/plain": [
              "\u001b[1m Trainable params: \u001b[0m\u001b[38;5;34m12,163\u001b[0m (47.51 KB)\n"
            ],
            "text/html": [
              "<pre style=\"white-space:pre;overflow-x:auto;line-height:normal;font-family:Menlo,'DejaVu Sans Mono',consolas,'Courier New',monospace\"><span style=\"font-weight: bold\"> Trainable params: </span><span style=\"color: #00af00; text-decoration-color: #00af00\">12,163</span> (47.51 KB)\n",
              "</pre>\n"
            ]
          },
          "metadata": {}
        },
        {
          "output_type": "display_data",
          "data": {
            "text/plain": [
              "\u001b[1m Non-trainable params: \u001b[0m\u001b[38;5;34m448\u001b[0m (1.75 KB)\n"
            ],
            "text/html": [
              "<pre style=\"white-space:pre;overflow-x:auto;line-height:normal;font-family:Menlo,'DejaVu Sans Mono',consolas,'Courier New',monospace\"><span style=\"font-weight: bold\"> Non-trainable params: </span><span style=\"color: #00af00; text-decoration-color: #00af00\">448</span> (1.75 KB)\n",
              "</pre>\n"
            ]
          },
          "metadata": {}
        }
      ]
    },
    {
      "cell_type": "markdown",
      "source": [
        "# Optimizador y Función de Pérdida"
      ],
      "metadata": {
        "id": "MKluOLyvdsO7"
      }
    },
    {
      "cell_type": "code",
      "source": [
        "modelo_ejemplo = tf.keras.models.Model()\n",
        "modelo_ejemplo.compile(\n",
        "            optimizer=tf.keras.optimizers.Adam(learning_rate=0.001),\n",
        "            loss='sparse_categorical_crossentropy',\n",
        "            metrics=['accuracy']\n",
        "        )"
      ],
      "metadata": {
        "id": "uaGd7EINdsVy"
      },
      "execution_count": null,
      "outputs": []
    },
    {
      "cell_type": "markdown",
      "source": [
        "# Entrenamiento y Pruebas"
      ],
      "metadata": {
        "id": "0LSOfGeHdsbE"
      }
    },
    {
      "cell_type": "code",
      "source": [
        "def main():\n",
        "    analyzer = CerebralFlowAnalyzer()\n",
        "    model, scaler, le_label = analyzer.train_and_evaluate(n_samples=5000)\n",
        "\n",
        "if __name__ == \"__main__\":\n",
        "    main()"
      ],
      "metadata": {
        "colab": {
          "base_uri": "https://localhost:8080/",
          "height": 1000
        },
        "id": "-MjlEYdTdshT",
        "outputId": "8998babe-0ce6-4555-f7ef-d872b093e6b7"
      },
      "execution_count": null,
      "outputs": [
        {
          "output_type": "stream",
          "name": "stdout",
          "text": [
            "Generating synthetic data...\n",
            "Training model...\n",
            "Epoch 1/100\n",
            "\u001b[1m100/100\u001b[0m \u001b[32m━━━━━━━━━━━━━━━━━━━━\u001b[0m\u001b[37m\u001b[0m \u001b[1m4s\u001b[0m 5ms/step - accuracy: 0.7276 - loss: 2.1261 - val_accuracy: 0.9463 - val_loss: 1.5919\n",
            "Epoch 2/100\n",
            "\u001b[1m100/100\u001b[0m \u001b[32m━━━━━━━━━━━━━━━━━━━━\u001b[0m\u001b[37m\u001b[0m \u001b[1m0s\u001b[0m 3ms/step - accuracy: 0.9248 - loss: 1.4639 - val_accuracy: 0.9513 - val_loss: 1.2634\n",
            "Epoch 3/100\n",
            "\u001b[1m100/100\u001b[0m \u001b[32m━━━━━━━━━━━━━━━━━━━━\u001b[0m\u001b[37m\u001b[0m \u001b[1m0s\u001b[0m 3ms/step - accuracy: 0.9363 - loss: 1.2145 - val_accuracy: 0.9525 - val_loss: 1.0340\n",
            "Epoch 4/100\n",
            "\u001b[1m100/100\u001b[0m \u001b[32m━━━━━━━━━━━━━━━━━━━━\u001b[0m\u001b[37m\u001b[0m \u001b[1m0s\u001b[0m 3ms/step - accuracy: 0.9274 - loss: 1.0093 - val_accuracy: 0.9513 - val_loss: 0.8551\n",
            "Epoch 5/100\n",
            "\u001b[1m100/100\u001b[0m \u001b[32m━━━━━━━━━━━━━━━━━━━━\u001b[0m\u001b[37m\u001b[0m \u001b[1m1s\u001b[0m 3ms/step - accuracy: 0.9271 - loss: 0.8670 - val_accuracy: 0.9463 - val_loss: 0.7181\n",
            "Epoch 6/100\n",
            "\u001b[1m100/100\u001b[0m \u001b[32m━━━━━━━━━━━━━━━━━━━━\u001b[0m\u001b[37m\u001b[0m \u001b[1m1s\u001b[0m 3ms/step - accuracy: 0.9403 - loss: 0.7244 - val_accuracy: 0.9413 - val_loss: 0.6194\n",
            "Epoch 7/100\n",
            "\u001b[1m100/100\u001b[0m \u001b[32m━━━━━━━━━━━━━━━━━━━━\u001b[0m\u001b[37m\u001b[0m \u001b[1m0s\u001b[0m 3ms/step - accuracy: 0.9486 - loss: 0.6081 - val_accuracy: 0.9438 - val_loss: 0.5389\n",
            "Epoch 8/100\n",
            "\u001b[1m100/100\u001b[0m \u001b[32m━━━━━━━━━━━━━━━━━━━━\u001b[0m\u001b[37m\u001b[0m \u001b[1m1s\u001b[0m 3ms/step - accuracy: 0.9427 - loss: 0.5332 - val_accuracy: 0.9513 - val_loss: 0.4648\n",
            "Epoch 9/100\n",
            "\u001b[1m100/100\u001b[0m \u001b[32m━━━━━━━━━━━━━━━━━━━━\u001b[0m\u001b[37m\u001b[0m \u001b[1m1s\u001b[0m 3ms/step - accuracy: 0.9422 - loss: 0.4815 - val_accuracy: 0.9463 - val_loss: 0.4061\n",
            "Epoch 10/100\n",
            "\u001b[1m100/100\u001b[0m \u001b[32m━━━━━━━━━━━━━━━━━━━━\u001b[0m\u001b[37m\u001b[0m \u001b[1m0s\u001b[0m 3ms/step - accuracy: 0.9338 - loss: 0.4444 - val_accuracy: 0.9488 - val_loss: 0.3647\n",
            "Epoch 11/100\n",
            "\u001b[1m100/100\u001b[0m \u001b[32m━━━━━━━━━━━━━━━━━━━━\u001b[0m\u001b[37m\u001b[0m \u001b[1m0s\u001b[0m 3ms/step - accuracy: 0.9498 - loss: 0.3476 - val_accuracy: 0.9475 - val_loss: 0.3490\n",
            "Epoch 12/100\n",
            "\u001b[1m100/100\u001b[0m \u001b[32m━━━━━━━━━━━━━━━━━━━━\u001b[0m\u001b[37m\u001b[0m \u001b[1m0s\u001b[0m 3ms/step - accuracy: 0.9477 - loss: 0.3485 - val_accuracy: 0.9463 - val_loss: 0.3166\n",
            "Epoch 13/100\n",
            "\u001b[1m100/100\u001b[0m \u001b[32m━━━━━━━━━━━━━━━━━━━━\u001b[0m\u001b[37m\u001b[0m \u001b[1m1s\u001b[0m 3ms/step - accuracy: 0.9378 - loss: 0.3335 - val_accuracy: 0.9538 - val_loss: 0.2975\n",
            "Epoch 14/100\n",
            "\u001b[1m100/100\u001b[0m \u001b[32m━━━━━━━━━━━━━━━━━━━━\u001b[0m\u001b[37m\u001b[0m \u001b[1m1s\u001b[0m 5ms/step - accuracy: 0.9539 - loss: 0.2776 - val_accuracy: 0.9513 - val_loss: 0.2746\n",
            "Epoch 15/100\n",
            "\u001b[1m100/100\u001b[0m \u001b[32m━━━━━━━━━━━━━━━━━━━━\u001b[0m\u001b[37m\u001b[0m \u001b[1m1s\u001b[0m 5ms/step - accuracy: 0.9426 - loss: 0.2897 - val_accuracy: 0.9388 - val_loss: 0.2653\n",
            "Epoch 16/100\n",
            "\u001b[1m100/100\u001b[0m \u001b[32m━━━━━━━━━━━━━━━━━━━━\u001b[0m\u001b[37m\u001b[0m \u001b[1m1s\u001b[0m 4ms/step - accuracy: 0.9414 - loss: 0.2769 - val_accuracy: 0.9388 - val_loss: 0.2664\n",
            "Epoch 17/100\n",
            "\u001b[1m100/100\u001b[0m \u001b[32m━━━━━━━━━━━━━━━━━━━━\u001b[0m\u001b[37m\u001b[0m \u001b[1m1s\u001b[0m 5ms/step - accuracy: 0.9425 - loss: 0.2617 - val_accuracy: 0.9375 - val_loss: 0.2641\n",
            "Epoch 18/100\n",
            "\u001b[1m100/100\u001b[0m \u001b[32m━━━━━━━━━━━━━━━━━━━━\u001b[0m\u001b[37m\u001b[0m \u001b[1m0s\u001b[0m 3ms/step - accuracy: 0.9446 - loss: 0.2536 - val_accuracy: 0.9425 - val_loss: 0.2359\n",
            "Epoch 19/100\n",
            "\u001b[1m100/100\u001b[0m \u001b[32m━━━━━━━━━━━━━━━━━━━━\u001b[0m\u001b[37m\u001b[0m \u001b[1m1s\u001b[0m 3ms/step - accuracy: 0.9425 - loss: 0.2318 - val_accuracy: 0.9450 - val_loss: 0.2274\n",
            "Epoch 20/100\n",
            "\u001b[1m100/100\u001b[0m \u001b[32m━━━━━━━━━━━━━━━━━━━━\u001b[0m\u001b[37m\u001b[0m \u001b[1m1s\u001b[0m 3ms/step - accuracy: 0.9527 - loss: 0.2256 - val_accuracy: 0.9438 - val_loss: 0.2358\n",
            "Epoch 21/100\n",
            "\u001b[1m100/100\u001b[0m \u001b[32m━━━━━━━━━━━━━━━━━━━━\u001b[0m\u001b[37m\u001b[0m \u001b[1m1s\u001b[0m 3ms/step - accuracy: 0.9492 - loss: 0.2351 - val_accuracy: 0.9475 - val_loss: 0.2379\n",
            "Epoch 22/100\n",
            "\u001b[1m100/100\u001b[0m \u001b[32m━━━━━━━━━━━━━━━━━━━━\u001b[0m\u001b[37m\u001b[0m \u001b[1m1s\u001b[0m 3ms/step - accuracy: 0.9448 - loss: 0.2215 - val_accuracy: 0.9388 - val_loss: 0.2506\n",
            "Epoch 23/100\n",
            "\u001b[1m100/100\u001b[0m \u001b[32m━━━━━━━━━━━━━━━━━━━━\u001b[0m\u001b[37m\u001b[0m \u001b[1m0s\u001b[0m 3ms/step - accuracy: 0.9562 - loss: 0.2155 - val_accuracy: 0.9450 - val_loss: 0.2269\n",
            "Epoch 24/100\n",
            "\u001b[1m100/100\u001b[0m \u001b[32m━━━━━━━━━━━━━━━━━━━━\u001b[0m\u001b[37m\u001b[0m \u001b[1m0s\u001b[0m 3ms/step - accuracy: 0.9517 - loss: 0.2079 - val_accuracy: 0.9425 - val_loss: 0.2184\n",
            "Epoch 25/100\n",
            "\u001b[1m100/100\u001b[0m \u001b[32m━━━━━━━━━━━━━━━━━━━━\u001b[0m\u001b[37m\u001b[0m \u001b[1m1s\u001b[0m 3ms/step - accuracy: 0.9419 - loss: 0.2216 - val_accuracy: 0.9450 - val_loss: 0.2180\n",
            "Epoch 26/100\n",
            "\u001b[1m100/100\u001b[0m \u001b[32m━━━━━━━━━━━━━━━━━━━━\u001b[0m\u001b[37m\u001b[0m \u001b[1m0s\u001b[0m 3ms/step - accuracy: 0.9526 - loss: 0.2011 - val_accuracy: 0.9438 - val_loss: 0.2231\n",
            "Epoch 27/100\n",
            "\u001b[1m100/100\u001b[0m \u001b[32m━━━━━━━━━━━━━━━━━━━━\u001b[0m\u001b[37m\u001b[0m \u001b[1m0s\u001b[0m 3ms/step - accuracy: 0.9592 - loss: 0.2076 - val_accuracy: 0.9475 - val_loss: 0.2149\n",
            "Epoch 28/100\n",
            "\u001b[1m100/100\u001b[0m \u001b[32m━━━━━━━━━━━━━━━━━━━━\u001b[0m\u001b[37m\u001b[0m \u001b[1m1s\u001b[0m 3ms/step - accuracy: 0.9552 - loss: 0.1991 - val_accuracy: 0.9425 - val_loss: 0.2203\n",
            "Epoch 29/100\n",
            "\u001b[1m100/100\u001b[0m \u001b[32m━━━━━━━━━━━━━━━━━━━━\u001b[0m\u001b[37m\u001b[0m \u001b[1m1s\u001b[0m 3ms/step - accuracy: 0.9553 - loss: 0.1939 - val_accuracy: 0.9388 - val_loss: 0.2268\n",
            "Epoch 30/100\n",
            "\u001b[1m100/100\u001b[0m \u001b[32m━━━━━━━━━━━━━━━━━━━━\u001b[0m\u001b[37m\u001b[0m \u001b[1m0s\u001b[0m 3ms/step - accuracy: 0.9541 - loss: 0.2058 - val_accuracy: 0.9450 - val_loss: 0.2205\n",
            "Epoch 31/100\n",
            "\u001b[1m100/100\u001b[0m \u001b[32m━━━━━━━━━━━━━━━━━━━━\u001b[0m\u001b[37m\u001b[0m \u001b[1m1s\u001b[0m 3ms/step - accuracy: 0.9522 - loss: 0.1973 - val_accuracy: 0.9450 - val_loss: 0.2214\n",
            "Epoch 32/100\n",
            "\u001b[1m100/100\u001b[0m \u001b[32m━━━━━━━━━━━━━━━━━━━━\u001b[0m\u001b[37m\u001b[0m \u001b[1m0s\u001b[0m 3ms/step - accuracy: 0.9548 - loss: 0.1997 - val_accuracy: 0.9400 - val_loss: 0.2241\n",
            "Epoch 33/100\n",
            "\u001b[1m100/100\u001b[0m \u001b[32m━━━━━━━━━━━━━━━━━━━━\u001b[0m\u001b[37m\u001b[0m \u001b[1m0s\u001b[0m 3ms/step - accuracy: 0.9484 - loss: 0.1961 - val_accuracy: 0.9413 - val_loss: 0.2306\n",
            "Epoch 34/100\n",
            "\u001b[1m100/100\u001b[0m \u001b[32m━━━━━━━━━━━━━━━━━━━━\u001b[0m\u001b[37m\u001b[0m \u001b[1m1s\u001b[0m 3ms/step - accuracy: 0.9531 - loss: 0.1991 - val_accuracy: 0.9438 - val_loss: 0.2107\n",
            "Epoch 35/100\n",
            "\u001b[1m100/100\u001b[0m \u001b[32m━━━━━━━━━━━━━━━━━━━━\u001b[0m\u001b[37m\u001b[0m \u001b[1m1s\u001b[0m 3ms/step - accuracy: 0.9382 - loss: 0.2135 - val_accuracy: 0.9525 - val_loss: 0.2214\n",
            "Epoch 36/100\n",
            "\u001b[1m100/100\u001b[0m \u001b[32m━━━━━━━━━━━━━━━━━━━━\u001b[0m\u001b[37m\u001b[0m \u001b[1m1s\u001b[0m 6ms/step - accuracy: 0.9529 - loss: 0.1918 - val_accuracy: 0.9425 - val_loss: 0.2327\n",
            "Epoch 37/100\n",
            "\u001b[1m100/100\u001b[0m \u001b[32m━━━━━━━━━━━━━━━━━━━━\u001b[0m\u001b[37m\u001b[0m \u001b[1m1s\u001b[0m 5ms/step - accuracy: 0.9503 - loss: 0.2029 - val_accuracy: 0.9438 - val_loss: 0.2120\n",
            "Epoch 38/100\n",
            "\u001b[1m100/100\u001b[0m \u001b[32m━━━━━━━━━━━━━━━━━━━━\u001b[0m\u001b[37m\u001b[0m \u001b[1m1s\u001b[0m 8ms/step - accuracy: 0.9558 - loss: 0.2105 - val_accuracy: 0.9463 - val_loss: 0.2201\n",
            "Epoch 39/100\n",
            "\u001b[1m100/100\u001b[0m \u001b[32m━━━━━━━━━━━━━━━━━━━━\u001b[0m\u001b[37m\u001b[0m \u001b[1m1s\u001b[0m 5ms/step - accuracy: 0.9560 - loss: 0.1876 - val_accuracy: 0.9400 - val_loss: 0.2129\n",
            "Epoch 40/100\n",
            "\u001b[1m100/100\u001b[0m \u001b[32m━━━━━━━━━━━━━━━━━━━━\u001b[0m\u001b[37m\u001b[0m \u001b[1m1s\u001b[0m 5ms/step - accuracy: 0.9561 - loss: 0.1858 - val_accuracy: 0.9388 - val_loss: 0.2223\n",
            "Epoch 41/100\n",
            "\u001b[1m100/100\u001b[0m \u001b[32m━━━━━━━━━━━━━━━━━━━━\u001b[0m\u001b[37m\u001b[0m \u001b[1m1s\u001b[0m 4ms/step - accuracy: 0.9521 - loss: 0.1799 - val_accuracy: 0.9425 - val_loss: 0.2168\n",
            "Epoch 42/100\n",
            "\u001b[1m100/100\u001b[0m \u001b[32m━━━━━━━━━━━━━━━━━━━━\u001b[0m\u001b[37m\u001b[0m \u001b[1m0s\u001b[0m 3ms/step - accuracy: 0.9486 - loss: 0.2064 - val_accuracy: 0.9388 - val_loss: 0.2240\n",
            "Epoch 43/100\n",
            "\u001b[1m100/100\u001b[0m \u001b[32m━━━━━━━━━━━━━━━━━━━━\u001b[0m\u001b[37m\u001b[0m \u001b[1m1s\u001b[0m 3ms/step - accuracy: 0.9547 - loss: 0.1888 - val_accuracy: 0.9400 - val_loss: 0.2226\n",
            "Epoch 44/100\n",
            "\u001b[1m100/100\u001b[0m \u001b[32m━━━━━━━━━━━━━━━━━━━━\u001b[0m\u001b[37m\u001b[0m \u001b[1m0s\u001b[0m 3ms/step - accuracy: 0.9521 - loss: 0.1837 - val_accuracy: 0.9413 - val_loss: 0.2124\n",
            "\n",
            "Evaluating model...\n",
            "Test Loss: 0.2185\n",
            "Test Accuracy: 0.9420\n",
            "\u001b[1m32/32\u001b[0m \u001b[32m━━━━━━━━━━━━━━━━━━━━\u001b[0m\u001b[37m\u001b[0m \u001b[1m0s\u001b[0m 4ms/step\n",
            "\n",
            "Classification Report:\n",
            "              precision    recall  f1-score   support\n",
            "\n",
            "       above       0.89      0.95      0.92       216\n",
            "       below       0.95      0.97      0.96       260\n",
            "      normal       0.96      0.92      0.94       524\n",
            "\n",
            "    accuracy                           0.94      1000\n",
            "   macro avg       0.93      0.95      0.94      1000\n",
            "weighted avg       0.94      0.94      0.94      1000\n",
            "\n"
          ]
        },
        {
          "output_type": "display_data",
          "data": {
            "text/plain": [
              "<Figure size 800x600 with 2 Axes>"
            ],
            "image/png": "[encoded data removed]"
          },
          "metadata": {}
        },
        {
          "output_type": "display_data",
          "data": {
            "text/plain": [
              "<Figure size 1200x400 with 2 Axes>"
            ],
            "image/png": "[encoded data removed]"
          },
          "metadata": {}
        }
      ]
    }
  ],
  "metadata": {
    "colab": {
      "provenance": []
    },
    "kernelspec": {
      "display_name": "Python 3",
      "name": "python3"
    },
    "language_info": {
      "name": "python"
    }
  },
  "nbformat": 4,
  "nbformat_minor": 0
}